{
 "cells": [
  {
   "cell_type": "code",
   "execution_count": 61,
   "metadata": {
    "colab": {
     "base_uri": "https://localhost:8080/",
     "height": 73
    },
    "id": "Vga2_bVLkSGv",
    "outputId": "d10730a9-42c7-41ca-d547-b18ef0db0d63"
   },
   "outputs": [],
   "source": [
    "import pandas as pd\n",
    "import numpy as np\n",
    "import matplotlib.pyplot as plt\n",
    "import seaborn as sns\n",
    "import scipy.stats as stats\n",
    "import statsmodels.api as sm\n",
    "import warnings\n",
    "warnings.filterwarnings('ignore')\n",
    "#from google.colab import files\n",
    "#uploaded = files.upload() #if you work in google colab"
   ]
  },
  {
   "cell_type": "markdown",
   "metadata": {
    "id": "55VawB89Wkd2"
   },
   "source": [
    "# Intro"
   ]
  },
  {
   "cell_type": "markdown",
   "metadata": {
    "id": "BMqW8ciSWmvL"
   },
   "source": [
    "The following data set includes 15 women with their height and weight. All participants were in the age range of 30-39.\n",
    "\n",
    "We will predict the height based on their weight. This will be done with linear regression."
   ]
  },
  {
   "cell_type": "code",
   "execution_count": 62,
   "metadata": {
    "colab": {
     "base_uri": "https://localhost:8080/",
     "height": 206
    },
    "id": "BMj5uYC6mm67",
    "outputId": "688019e2-bb33-4482-e248-62b5a83e1d8c"
   },
   "outputs": [
    {
     "data": {
      "text/html": [
       "<div>\n",
       "<style scoped>\n",
       "    .dataframe tbody tr th:only-of-type {\n",
       "        vertical-align: middle;\n",
       "    }\n",
       "\n",
       "    .dataframe tbody tr th {\n",
       "        vertical-align: top;\n",
       "    }\n",
       "\n",
       "    .dataframe thead th {\n",
       "        text-align: right;\n",
       "    }\n",
       "</style>\n",
       "<table border=\"1\" class=\"dataframe\">\n",
       "  <thead>\n",
       "    <tr style=\"text-align: right;\">\n",
       "      <th></th>\n",
       "      <th>Height</th>\n",
       "      <th>Weight</th>\n",
       "    </tr>\n",
       "  </thead>\n",
       "  <tbody>\n",
       "    <tr>\n",
       "      <th>0</th>\n",
       "      <td>1.47</td>\n",
       "      <td>52.21</td>\n",
       "    </tr>\n",
       "    <tr>\n",
       "      <th>1</th>\n",
       "      <td>1.50</td>\n",
       "      <td>53.12</td>\n",
       "    </tr>\n",
       "    <tr>\n",
       "      <th>2</th>\n",
       "      <td>1.52</td>\n",
       "      <td>54.48</td>\n",
       "    </tr>\n",
       "    <tr>\n",
       "      <th>3</th>\n",
       "      <td>1.55</td>\n",
       "      <td>55.84</td>\n",
       "    </tr>\n",
       "    <tr>\n",
       "      <th>4</th>\n",
       "      <td>1.57</td>\n",
       "      <td>57.20</td>\n",
       "    </tr>\n",
       "  </tbody>\n",
       "</table>\n",
       "</div>"
      ],
      "text/plain": [
       "   Height  Weight\n",
       "0    1.47   52.21\n",
       "1    1.50   53.12\n",
       "2    1.52   54.48\n",
       "3    1.55   55.84\n",
       "4    1.57   57.20"
      ]
     },
     "execution_count": 62,
     "metadata": {},
     "output_type": "execute_result"
    }
   ],
   "source": [
    "file='data.csv'\n",
    "df=pd.read_csv(file)\n",
    "df.head()"
   ]
  },
  {
   "cell_type": "markdown",
   "metadata": {
    "id": "Sv3wBorKXM-u"
   },
   "source": [
    "# Data cleaning"
   ]
  },
  {
   "cell_type": "code",
   "execution_count": 63,
   "metadata": {
    "colab": {
     "base_uri": "https://localhost:8080/"
    },
    "id": "vBNjSdssXOck",
    "outputId": "45d7c40e-dc09-4cf1-e281-881e5fd5e507"
   },
   "outputs": [
    {
     "name": "stdout",
     "output_type": "stream",
     "text": [
      "<class 'pandas.core.frame.DataFrame'>\n",
      "RangeIndex: 15 entries, 0 to 14\n",
      "Data columns (total 2 columns):\n",
      " #   Column  Non-Null Count  Dtype  \n",
      "---  ------  --------------  -----  \n",
      " 0   Height  15 non-null     float64\n",
      " 1   Weight  15 non-null     float64\n",
      "dtypes: float64(2)\n",
      "memory usage: 368.0 bytes\n"
     ]
    }
   ],
   "source": [
    "df.info()"
   ]
  },
  {
   "cell_type": "code",
   "execution_count": 64,
   "metadata": {
    "colab": {
     "base_uri": "https://localhost:8080/"
    },
    "id": "fty5YTVyZrhy",
    "outputId": "a5d320ab-c470-4afc-e8c3-086948140553"
   },
   "outputs": [
    {
     "data": {
      "text/plain": [
       "(15, 2)"
      ]
     },
     "execution_count": 64,
     "metadata": {},
     "output_type": "execute_result"
    }
   ],
   "source": [
    "df.shape"
   ]
  },
  {
   "cell_type": "code",
   "execution_count": 65,
   "metadata": {
    "colab": {
     "base_uri": "https://localhost:8080/"
    },
    "id": "iLVGZd6GXWDC",
    "outputId": "e1d1b5e2-800c-4bc7-d8bd-f87ef39d0b41"
   },
   "outputs": [
    {
     "data": {
      "text/plain": [
       "Height    0\n",
       "Weight    0\n",
       "dtype: int64"
      ]
     },
     "execution_count": 65,
     "metadata": {},
     "output_type": "execute_result"
    }
   ],
   "source": [
    "df.isnull().sum()"
   ]
  },
  {
   "cell_type": "markdown",
   "metadata": {
    "id": "W5WExj9hXSo2"
   },
   "source": [
    "We have no null values, and all data types make sense, so we can proceed with the exploratory analysis."
   ]
  },
  {
   "cell_type": "markdown",
   "metadata": {
    "id": "EPmS2raLZ3x8"
   },
   "source": [
    "# Exploratory Analysis"
   ]
  },
  {
   "cell_type": "code",
   "execution_count": 66,
   "metadata": {
    "colab": {
     "base_uri": "https://localhost:8080/"
    },
    "id": "LKlfmdi1Z24R",
    "outputId": "cd333582-79dc-4593-d0c2-4bc021d901e4"
   },
   "outputs": [
    {
     "data": {
      "text/plain": [
       "1.47    1\n",
       "1.50    1\n",
       "1.52    1\n",
       "1.55    1\n",
       "1.57    1\n",
       "1.60    1\n",
       "1.63    1\n",
       "1.65    1\n",
       "1.68    1\n",
       "1.70    1\n",
       "1.73    1\n",
       "1.75    1\n",
       "1.78    1\n",
       "1.80    1\n",
       "1.83    1\n",
       "Name: Height, dtype: int64"
      ]
     },
     "execution_count": 66,
     "metadata": {},
     "output_type": "execute_result"
    }
   ],
   "source": [
    "df.Height.value_counts()"
   ]
  },
  {
   "cell_type": "code",
   "execution_count": 67,
   "metadata": {
    "colab": {
     "base_uri": "https://localhost:8080/"
    },
    "id": "ZsNFOEkqaHss",
    "outputId": "9319b547-1841-4a43-fe68-c6d7ce8a66f5"
   },
   "outputs": [
    {
     "data": {
      "text/plain": [
       "52.21    1\n",
       "53.12    1\n",
       "54.48    1\n",
       "55.84    1\n",
       "57.20    1\n",
       "58.57    1\n",
       "59.93    1\n",
       "61.29    1\n",
       "63.11    1\n",
       "64.47    1\n",
       "66.28    1\n",
       "68.10    1\n",
       "69.92    1\n",
       "72.19    1\n",
       "74.46    1\n",
       "Name: Weight, dtype: int64"
      ]
     },
     "execution_count": 67,
     "metadata": {},
     "output_type": "execute_result"
    }
   ],
   "source": [
    "df.Weight.value_counts()"
   ]
  },
  {
   "cell_type": "markdown",
   "metadata": {
    "id": "TWck-F_zaaUY"
   },
   "source": [
    "As we can see, all values appear once, so there is no need for visualization.\n",
    "\n",
    "So we can move on and start the analysis."
   ]
  },
  {
   "cell_type": "markdown",
   "metadata": {
    "id": "wYy0uRZYccDh"
   },
   "source": [
    "# Linear regression\n",
    "## Assumptions\n",
    "### Linearity"
   ]
  },
  {
   "cell_type": "code",
   "execution_count": 68,
   "metadata": {
    "colab": {
     "base_uri": "https://localhost:8080/",
     "height": 571
    },
    "id": "3Syb8--3bDvE",
    "outputId": "b33f9717-85a6-47fe-ecd4-150a9597c1b8"
   },
   "outputs": [
    {
     "data": {
      "text/plain": [
       "<AxesSubplot:xlabel='Weight', ylabel='Height'>"
      ]
     },
     "execution_count": 68,
     "metadata": {},
     "output_type": "execute_result"
    },
    {
     "data": {
      "image/png": "[encoded data removed]",
      "text/plain": [
       "<Figure size 576x576 with 1 Axes>"
      ]
     },
     "metadata": {
      "needs_background": "light"
     },
     "output_type": "display_data"
    }
   ],
   "source": [
    "plt.figure(figsize=(8,8))\n",
    "sns.regplot(df.Weight, df.Height)"
   ]
  },
  {
   "cell_type": "markdown",
   "metadata": {
    "id": "b_WMm_Q9s18i"
   },
   "source": [
    "As we can see, we have linearity between the dependent (height) and independent (weight) variables. \n",
    "\n",
    "Next, we want to check for homoscedasticity."
   ]
  },
  {
   "cell_type": "markdown",
   "metadata": {
    "id": "Xp3BYkxlxhWt"
   },
   "source": [
    "## Checking for Homoscedasticity"
   ]
  },
  {
   "cell_type": "code",
   "execution_count": 69,
   "metadata": {
    "colab": {
     "base_uri": "https://localhost:8080/",
     "height": 339
    },
    "id": "B32Cu2QksZaH",
    "outputId": "897a6bb4-d248-4a49-ab1d-21373f29385d"
   },
   "outputs": [
    {
     "data": {
      "text/plain": [
       "<AxesSubplot:>"
      ]
     },
     "execution_count": 69,
     "metadata": {},
     "output_type": "execute_result"
    },
    {
     "data": {
      "image/png": "[encoded data removed]",
      "text/plain": [
       "<Figure size 432x288 with 1 Axes>"
      ]
     },
     "metadata": {
      "needs_background": "light"
     },
     "output_type": "display_data"
    }
   ],
   "source": [
    "model=sm.OLS.from_formula('Height ~ Weight', data=df)\n",
    "result=model.fit()\n",
    "sns.regplot(result.fittedvalues, result.resid)"
   ]
  },
  {
   "cell_type": "markdown",
   "metadata": {},
   "source": [
    "The graph does not indicate heteroscedasticity, but we will do a Goldfeld Quandt test to make sure."
   ]
  },
  {
   "cell_type": "code",
   "execution_count": 70,
   "metadata": {
    "colab": {
     "base_uri": "https://localhost:8080/"
    },
    "id": "V8rxxPZnvn6W",
    "outputId": "adfcbdc4-f291-443c-9417-df260b55f7e8"
   },
   "outputs": [
    {
     "data": {
      "text/plain": [
       "(0.6528023737635948, 0.6848174673812584, 'increasing')"
      ]
     },
     "execution_count": 70,
     "metadata": {},
     "output_type": "execute_result"
    }
   ],
   "source": [
    "sm.stats.diagnostic.het_goldfeldquandt(result.resid, result.model.exog, drop=0.2)"
   ]
  },
  {
   "cell_type": "markdown",
   "metadata": {
    "id": "IUnquvSyxvFd"
   },
   "source": [
    "The p-value is not smaller than 0.05, therefore we have homoscedasticity."
   ]
  },
  {
   "cell_type": "markdown",
   "metadata": {
    "id": "tJEIJRss3xHV"
   },
   "source": [
    "## Checking for normality of residuals"
   ]
  },
  {
   "cell_type": "code",
   "execution_count": 71,
   "metadata": {
    "colab": {
     "base_uri": "https://localhost:8080/",
     "height": 438
    },
    "id": "nuiGey81wI2q",
    "outputId": "3481f3c8-22f8-4bd4-bbc6-5321b8cf3d78"
   },
   "outputs": [
    {
     "data": {
      "text/plain": [
       "((array([-1.69372899, -1.22918025, -0.93620006, -0.70737068, -0.51078428,\n",
       "         -0.33229293, -0.1638693 ,  0.        ,  0.1638693 ,  0.33229293,\n",
       "          0.51078428,  0.70737068,  0.93620006,  1.22918025,  1.69372899]),\n",
       "  array([-2.13546561e-02, -2.05654623e-02, -1.39178879e-02, -8.00223047e-03,\n",
       "         -6.04597445e-03, -1.91474251e-03,  4.15135119e-05,  2.11232323e-03,\n",
       "          2.72968650e-03,  5.96755842e-03,  1.07161536e-02,  1.14949600e-02,\n",
       "          1.20550464e-02,  1.26724096e-02,  1.40113024e-02])),\n",
       " (0.012225361365425723, -1.6128002423127071e-15, 0.9654775130541721))"
      ]
     },
     "execution_count": 71,
     "metadata": {},
     "output_type": "execute_result"
    },
    {
     "data": {
      "image/png": "[encoded data removed]",
      "text/plain": [
       "<Figure size 432x288 with 1 Axes>"
      ]
     },
     "metadata": {
      "needs_background": "light"
     },
     "output_type": "display_data"
    }
   ],
   "source": [
    "stats.probplot(result.resid, dist='norm', plot=plt)"
   ]
  },
  {
   "cell_type": "code",
   "execution_count": 72,
   "metadata": {
    "colab": {
     "base_uri": "https://localhost:8080/"
    },
    "id": "Fz8O0RHO4rCL",
    "outputId": "31e8c097-d277-4907-eb2a-1aa2e6613db8"
   },
   "outputs": [
    {
     "data": {
      "text/plain": [
       "KstestResult(statistic=0.15823829106356746, pvalue=0.7924907400986513)"
      ]
     },
     "execution_count": 72,
     "metadata": {},
     "output_type": "execute_result"
    }
   ],
   "source": [
    "from scipy.stats import kstest\n",
    "kstest(result.resid, 'norm', stats.norm.fit(result.resid))"
   ]
  },
  {
   "cell_type": "markdown",
   "metadata": {
    "id": "foUpLFmV7OBN"
   },
   "source": [
    "The Kolmogrov-Smirnov test and Q-Q-plot show a normal distribution of the residuals because our p-value is bigger than 0.05, and the plots are relatively close to the line."
   ]
  },
  {
   "cell_type": "markdown",
   "metadata": {
    "id": "xiCCmCjYq1lE"
   },
   "source": [
    "## Linear Regression Model"
   ]
  },
  {
   "cell_type": "code",
   "execution_count": 73,
   "metadata": {
    "colab": {
     "base_uri": "https://localhost:8080/",
     "height": 488
    },
    "id": "Gqq2YzLSOJEE",
    "outputId": "74251ea4-8b3f-4839-bce0-4c99f6336885"
   },
   "outputs": [
    {
     "data": {
      "text/html": [
       "<table class=\"simpletable\">\n",
       "<caption>OLS Regression Results</caption>\n",
       "<tr>\n",
       "  <th>Dep. Variable:</th>         <td>Height</td>      <th>  R-squared:         </th> <td>   0.989</td>\n",
       "</tr>\n",
       "<tr>\n",
       "  <th>Model:</th>                   <td>OLS</td>       <th>  Adj. R-squared:    </th> <td>   0.988</td>\n",
       "</tr>\n",
       "<tr>\n",
       "  <th>Method:</th>             <td>Least Squares</td>  <th>  F-statistic:       </th> <td>   1190.</td>\n",
       "</tr>\n",
       "<tr>\n",
       "  <th>Date:</th>             <td>Wed, 21 Dec 2022</td> <th>  Prob (F-statistic):</th> <td>3.60e-14</td>\n",
       "</tr>\n",
       "<tr>\n",
       "  <th>Time:</th>                 <td>13:43:31</td>     <th>  Log-Likelihood:    </th> <td>  45.735</td>\n",
       "</tr>\n",
       "<tr>\n",
       "  <th>No. Observations:</th>      <td>    15</td>      <th>  AIC:               </th> <td>  -87.47</td>\n",
       "</tr>\n",
       "<tr>\n",
       "  <th>Df Residuals:</th>          <td>    13</td>      <th>  BIC:               </th> <td>  -86.05</td>\n",
       "</tr>\n",
       "<tr>\n",
       "  <th>Df Model:</th>              <td>     1</td>      <th>                     </th>     <td> </td>   \n",
       "</tr>\n",
       "<tr>\n",
       "  <th>Covariance Type:</th>      <td>nonrobust</td>    <th>                     </th>     <td> </td>   \n",
       "</tr>\n",
       "</table>\n",
       "<table class=\"simpletable\">\n",
       "<tr>\n",
       "      <td></td>         <th>coef</th>     <th>std err</th>      <th>t</th>      <th>P>|t|</th>  <th>[0.025</th>    <th>0.975]</th>  \n",
       "</tr>\n",
       "<tr>\n",
       "  <th>Intercept</th> <td>    0.6485</td> <td>    0.029</td> <td>   22.191</td> <td> 0.000</td> <td>    0.585</td> <td>    0.712</td>\n",
       "</tr>\n",
       "<tr>\n",
       "  <th>Weight</th>    <td>    0.0161</td> <td>    0.000</td> <td>   34.502</td> <td> 0.000</td> <td>    0.015</td> <td>    0.017</td>\n",
       "</tr>\n",
       "</table>\n",
       "<table class=\"simpletable\">\n",
       "<tr>\n",
       "  <th>Omnibus:</th>       <td> 1.577</td> <th>  Durbin-Watson:     </th> <td>   0.432</td>\n",
       "</tr>\n",
       "<tr>\n",
       "  <th>Prob(Omnibus):</th> <td> 0.454</td> <th>  Jarque-Bera (JB):  </th> <td>   1.241</td>\n",
       "</tr>\n",
       "<tr>\n",
       "  <th>Skew:</th>          <td>-0.545</td> <th>  Prob(JB):          </th> <td>   0.538</td>\n",
       "</tr>\n",
       "<tr>\n",
       "  <th>Kurtosis:</th>      <td> 2.107</td> <th>  Cond. No.          </th> <td>    574.</td>\n",
       "</tr>\n",
       "</table><br/><br/>Notes:<br/>[1] Standard Errors assume that the covariance matrix of the errors is correctly specified."
      ],
      "text/plain": [
       "<class 'statsmodels.iolib.summary.Summary'>\n",
       "\"\"\"\n",
       "                            OLS Regression Results                            \n",
       "==============================================================================\n",
       "Dep. Variable:                 Height   R-squared:                       0.989\n",
       "Model:                            OLS   Adj. R-squared:                  0.988\n",
       "Method:                 Least Squares   F-statistic:                     1190.\n",
       "Date:                Wed, 21 Dec 2022   Prob (F-statistic):           3.60e-14\n",
       "Time:                        13:43:31   Log-Likelihood:                 45.735\n",
       "No. Observations:                  15   AIC:                            -87.47\n",
       "Df Residuals:                      13   BIC:                            -86.05\n",
       "Df Model:                           1                                         \n",
       "Covariance Type:            nonrobust                                         \n",
       "==============================================================================\n",
       "                 coef    std err          t      P>|t|      [0.025      0.975]\n",
       "------------------------------------------------------------------------------\n",
       "Intercept      0.6485      0.029     22.191      0.000       0.585       0.712\n",
       "Weight         0.0161      0.000     34.502      0.000       0.015       0.017\n",
       "==============================================================================\n",
       "Omnibus:                        1.577   Durbin-Watson:                   0.432\n",
       "Prob(Omnibus):                  0.454   Jarque-Bera (JB):                1.241\n",
       "Skew:                          -0.545   Prob(JB):                        0.538\n",
       "Kurtosis:                       2.107   Cond. No.                         574.\n",
       "==============================================================================\n",
       "\n",
       "Notes:\n",
       "[1] Standard Errors assume that the covariance matrix of the errors is correctly specified.\n",
       "\"\"\""
      ]
     },
     "execution_count": 73,
     "metadata": {},
     "output_type": "execute_result"
    }
   ],
   "source": [
    "model=sm.OLS.from_formula('Height ~ Weight', data=df)\n",
    "result=model.fit()\n",
    "result.summary()"
   ]
  },
  {
   "cell_type": "markdown",
   "metadata": {
    "id": "aIYBkLrfs4lx"
   },
   "source": [
    "## Setting up the the function"
   ]
  },
  {
   "cell_type": "code",
   "execution_count": 74,
   "metadata": {},
   "outputs": [
    {
     "data": {
      "text/plain": [
       "Intercept    0.648460\n",
       "Weight       0.016144\n",
       "dtype: float64"
      ]
     },
     "execution_count": 74,
     "metadata": {},
     "output_type": "execute_result"
    }
   ],
   "source": [
    "result.params"
   ]
  },
  {
   "cell_type": "code",
   "execution_count": 75,
   "metadata": {
    "id": "ffASuvmKr569"
   },
   "outputs": [],
   "source": [
    "def height_func(weight):\n",
    "  y=round(0.648460+(0.016144*weight),2)\n",
    "  return(y)"
   ]
  },
  {
   "cell_type": "code",
   "execution_count": 76,
   "metadata": {
    "colab": {
     "base_uri": "https://localhost:8080/"
    },
    "id": "cNNd1FnVtYOG",
    "outputId": "c6e49746-006d-4f16-b82a-9dc7022705b1"
   },
   "outputs": [
    {
     "data": {
      "text/plain": [
       "1.59"
      ]
     },
     "execution_count": 76,
     "metadata": {},
     "output_type": "execute_result"
    }
   ],
   "source": [
    "#existing value form the table\n",
    "height_func(58.57)"
   ]
  },
  {
   "cell_type": "code",
   "execution_count": 77,
   "metadata": {},
   "outputs": [
    {
     "data": {
      "text/plain": [
       "1.62"
      ]
     },
     "execution_count": 77,
     "metadata": {},
     "output_type": "execute_result"
    }
   ],
   "source": [
    "#existing value form the table\n",
    "height_func(59.93)"
   ]
  },
  {
   "cell_type": "code",
   "execution_count": 78,
   "metadata": {
    "colab": {
     "base_uri": "https://localhost:8080/"
    },
    "id": "8CfAyk4Q2lrz",
    "outputId": "23483fb1-f950-4c67-bbcd-539ab1a683f5"
   },
   "outputs": [
    {
     "data": {
      "text/plain": [
       "1.86"
      ]
     },
     "execution_count": 78,
     "metadata": {},
     "output_type": "execute_result"
    }
   ],
   "source": [
    "#value which is not in the table, actual prediction\n",
    "height_func(75)"
   ]
  },
  {
   "cell_type": "markdown",
   "metadata": {
    "id": "6tbxBzjR5x-B"
   },
   "source": [
    "We have set up the linear function with the coefficients. This will allow us to predict the height of women. To get an idea of how accurate our predictions will be, we showcase the data set of the heights and weights of women."
   ]
  },
  {
   "cell_type": "code",
   "execution_count": 79,
   "metadata": {
    "colab": {
     "base_uri": "https://localhost:8080/",
     "height": 520
    },
    "id": "ILZESJzm56iT",
    "outputId": "6eed7cb7-cade-4a68-ec82-f27e249be9df"
   },
   "outputs": [
    {
     "data": {
      "text/html": [
       "<div>\n",
       "<style scoped>\n",
       "    .dataframe tbody tr th:only-of-type {\n",
       "        vertical-align: middle;\n",
       "    }\n",
       "\n",
       "    .dataframe tbody tr th {\n",
       "        vertical-align: top;\n",
       "    }\n",
       "\n",
       "    .dataframe thead th {\n",
       "        text-align: right;\n",
       "    }\n",
       "</style>\n",
       "<table border=\"1\" class=\"dataframe\">\n",
       "  <thead>\n",
       "    <tr style=\"text-align: right;\">\n",
       "      <th></th>\n",
       "      <th>Height</th>\n",
       "      <th>Weight</th>\n",
       "    </tr>\n",
       "  </thead>\n",
       "  <tbody>\n",
       "    <tr>\n",
       "      <th>0</th>\n",
       "      <td>1.47</td>\n",
       "      <td>52.21</td>\n",
       "    </tr>\n",
       "    <tr>\n",
       "      <th>1</th>\n",
       "      <td>1.50</td>\n",
       "      <td>53.12</td>\n",
       "    </tr>\n",
       "    <tr>\n",
       "      <th>2</th>\n",
       "      <td>1.52</td>\n",
       "      <td>54.48</td>\n",
       "    </tr>\n",
       "    <tr>\n",
       "      <th>3</th>\n",
       "      <td>1.55</td>\n",
       "      <td>55.84</td>\n",
       "    </tr>\n",
       "    <tr>\n",
       "      <th>4</th>\n",
       "      <td>1.57</td>\n",
       "      <td>57.20</td>\n",
       "    </tr>\n",
       "    <tr>\n",
       "      <th>5</th>\n",
       "      <td>1.60</td>\n",
       "      <td>58.57</td>\n",
       "    </tr>\n",
       "    <tr>\n",
       "      <th>6</th>\n",
       "      <td>1.63</td>\n",
       "      <td>59.93</td>\n",
       "    </tr>\n",
       "    <tr>\n",
       "      <th>7</th>\n",
       "      <td>1.65</td>\n",
       "      <td>61.29</td>\n",
       "    </tr>\n",
       "    <tr>\n",
       "      <th>8</th>\n",
       "      <td>1.68</td>\n",
       "      <td>63.11</td>\n",
       "    </tr>\n",
       "    <tr>\n",
       "      <th>9</th>\n",
       "      <td>1.70</td>\n",
       "      <td>64.47</td>\n",
       "    </tr>\n",
       "    <tr>\n",
       "      <th>10</th>\n",
       "      <td>1.73</td>\n",
       "      <td>66.28</td>\n",
       "    </tr>\n",
       "    <tr>\n",
       "      <th>11</th>\n",
       "      <td>1.75</td>\n",
       "      <td>68.10</td>\n",
       "    </tr>\n",
       "    <tr>\n",
       "      <th>12</th>\n",
       "      <td>1.78</td>\n",
       "      <td>69.92</td>\n",
       "    </tr>\n",
       "    <tr>\n",
       "      <th>13</th>\n",
       "      <td>1.80</td>\n",
       "      <td>72.19</td>\n",
       "    </tr>\n",
       "    <tr>\n",
       "      <th>14</th>\n",
       "      <td>1.83</td>\n",
       "      <td>74.46</td>\n",
       "    </tr>\n",
       "  </tbody>\n",
       "</table>\n",
       "</div>"
      ],
      "text/plain": [
       "    Height  Weight\n",
       "0     1.47   52.21\n",
       "1     1.50   53.12\n",
       "2     1.52   54.48\n",
       "3     1.55   55.84\n",
       "4     1.57   57.20\n",
       "5     1.60   58.57\n",
       "6     1.63   59.93\n",
       "7     1.65   61.29\n",
       "8     1.68   63.11\n",
       "9     1.70   64.47\n",
       "10    1.73   66.28\n",
       "11    1.75   68.10\n",
       "12    1.78   69.92\n",
       "13    1.80   72.19\n",
       "14    1.83   74.46"
      ]
     },
     "execution_count": 79,
     "metadata": {},
     "output_type": "execute_result"
    }
   ],
   "source": [
    "df"
   ]
  },
  {
   "cell_type": "markdown",
   "metadata": {
    "id": "VtEejtix59Yd"
   },
   "source": [
    "Our model allows us, based on the weight, to predict the height of women in their thirties (based on the data set) with 98.8% accuracy (Adj. R-squared). "
   ]
  }
 ],
 "metadata": {
  "colab": {
   "provenance": []
  },
  "kernelspec": {
   "display_name": "Python 3 (ipykernel)",
   "language": "python",
   "name": "python3"
  },
  "language_info": {
   "codemirror_mode": {
    "name": "ipython",
    "version": 3
   },
   "file_extension": ".py",
   "mimetype": "text/x-python",
   "name": "python",
   "nbconvert_exporter": "python",
   "pygments_lexer": "ipython3",
   "version": "3.9.7"
  },
  "toc": {
   "base_numbering": 1,
   "nav_menu": {},
   "number_sections": true,
   "sideBar": true,
   "skip_h1_title": false,
   "title_cell": "Table of Contents",
   "title_sidebar": "Contents",
   "toc_cell": false,
   "toc_position": {},
   "toc_section_display": true,
   "toc_window_display": false
  }
 },
 "nbformat": 4,
 "nbformat_minor": 1
}
